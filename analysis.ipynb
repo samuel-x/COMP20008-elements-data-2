{
 "cells": [
  {
   "cell_type": "code",
   "execution_count": 269,
   "metadata": {
    "collapsed": true
   },
   "outputs": [],
   "source": [
    "#Import the libraries for analysis\n",
    "import pandas as pd\n",
    "import matplotlib.pyplot as plt\n",
    "\n",
    "plt.style.use(\"ggplot\")\n",
    "def make_row(row, row2):\n",
    "    new_row = {}\n",
    "    for i in ['TotalConn', 'NetC_meas', 'NetC_rank', 'NetC_sd', 'bband', 'bband_rank', 'bband_sd', 'bband_meas', 'Dialup']:\n",
    "        new_row[i] = row[i]\n",
    "    for i in ['health_rate', 'health_count', 'area_code']:\n",
    "        if row2[i][list(row2.index)[0]] != 'area_code':\n",
    "            new_row[i] = float(row2[i][list(row2.index)[0]])\n",
    "        else:\n",
    "            new_row[i] = row2[i][list(row2.index)[0]]\n",
    "    return new_row"
   ]
  },
  {
   "cell_type": "code",
   "execution_count": 270,
   "metadata": {
    "collapsed": true
   },
   "outputs": [],
   "source": [
    "#Read in CSV Files\n",
    "internet_df = pd.read_csv(\"internet.csv\")\n",
    "health_df = pd.read_csv(\"health.csv\")\n"
   ]
  },
  {
   "cell_type": "code",
   "execution_count": null,
   "metadata": {
    "collapsed": false
   },
   "outputs": [],
   "source": []
  },
  {
   "cell_type": "code",
   "execution_count": 271,
   "metadata": {
    "collapsed": false
   },
   "outputs": [],
   "source": [
    "compare_df = pd.DataFrame()"
   ]
  },
  {
   "cell_type": "code",
   "execution_count": 272,
   "metadata": {
    "collapsed": false
   },
   "outputs": [],
   "source": [
    "#Make a new dataframe containing area codes that are in both datasets that are not null\n",
    "for key,row in internet_df.iterrows():\n",
    "        index = health_df.ix[health_df['area_code'] == row['LGA2011']]\n",
    "        #print(index['area_code'])\n",
    "        if (index['health_rate'][list(index.index)[0]] != 'null'):\n",
    "            d = make_row(row, index)\n",
    "            compare_df = compare_df.append(d, ignore_index=True)\n",
    "\n",
    "        "
   ]
  },
  {
   "cell_type": "code",
   "execution_count": 273,
   "metadata": {
    "collapsed": false
   },
   "outputs": [
    {
     "name": "stdout",
     "output_type": "stream",
     "text": [
      "-0.596119107215\n"
     ]
    },
    {
     "data": {
      "image/png": "[encoded data removed]",
      "text/plain": [
       "<matplotlib.figure.Figure at 0x238d57f13c8>"
      ]
     },
     "metadata": {},
     "output_type": "display_data"
    }
   ],
   "source": [
    "d = pd.DataFrame({'internet':compare_df['bband_meas'], 'health':compare_df['health_rate']}, columns=['internet', 'health'])\n",
    "print(d['internet'].corr(d['health']))\n",
    "d.plot(kind='scatter', x='internet', y='health')\n",
    "plt.show()"
   ]
  },
  {
   "cell_type": "code",
   "execution_count": null,
   "metadata": {
    "collapsed": false
   },
   "outputs": [],
   "source": []
  },
  {
   "cell_type": "code",
   "execution_count": null,
   "metadata": {
    "collapsed": true
   },
   "outputs": [],
   "source": []
  }
 ],
 "metadata": {
  "kernelspec": {
   "display_name": "Python 3",
   "language": "python",
   "name": "python3"
  },
  "language_info": {
   "codemirror_mode": {
    "name": "ipython",
    "version": 3
   },
   "file_extension": ".py",
   "mimetype": "text/x-python",
   "name": "python",
   "nbconvert_exporter": "python",
   "pygments_lexer": "ipython3",
   "version": "3.6.0"
  }
 },
 "nbformat": 4,
 "nbformat_minor": 2
}
