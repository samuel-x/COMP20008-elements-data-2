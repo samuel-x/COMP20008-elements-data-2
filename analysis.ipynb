{
 "cells": [
  {
   "cell_type": "code",
   "execution_count": 104,
   "metadata": {
    "collapsed": true
   },
   "outputs": [],
   "source": [
    "#Import the libraries for analysis\n",
    "import pandas as pd\n",
    "import matplotlib.pyplot as plt\n",
    "\n",
    "\n",
    "\n",
    "plt.style.use(\"ggplot\")\n",
    "def make_row(row, row2, df):\n",
    "    new_row = {}\n",
    "    for i in ['TotalConn', 'OtherConn', 'Tech_rank', 'Tech_sd', 'NetC_meas', 'NetC_rank', 'NetC_sd', 'bband', 'bband_rank', 'bband_sd', 'bband_meas', 'Dialup']:\n",
    "        new_row[i] = row[i]\n",
    "    for i in list(df):\n",
    "        if row2[i][list(row2.index)[0]] != 'area_code':\n",
    "            try:\n",
    "                new_row[i] = float(row2[i][list(row2.index)[0]])\n",
    "            except ValueError:\n",
    "                continue\n",
    "        else:\n",
    "            new_row[i] = row2[i][list(row2.index)[0]]\n",
    "    return new_row\n",
    "\n",
    "def check_row(row, dataframe):\n",
    "    index = dataframe.ix[dataframe['area_code'] == row['area_code']]\n",
    "    for i in list(index):\n",
    "        is_null = 0\n",
    "        if (index[i][list(index.index)[0]] == 'null'):\n",
    "            is_null = 1\n",
    "    if (is_null == 0):    \n",
    "        d = make_row(row, index, dataframe)\n",
    "        return d\n",
    "    else:\n",
    "        is_null = 0"
   ]
  },
  {
   "cell_type": "code",
   "execution_count": 109,
   "metadata": {
    "collapsed": true
   },
   "outputs": [],
   "source": [
    "#Read in CSV Files\n",
    "internet_df = pd.read_csv(\"internet.csv\")\n",
    "health_df = pd.read_csv(\"health.csv\")\n",
    "hospital_df = pd.read_csv(\"hospital.csv\")\n",
    "chronic_df = pd.read_csv(\"chronic.csv\")\n"
   ]
  },
  {
   "cell_type": "code",
   "execution_count": 110,
   "metadata": {
    "collapsed": false
   },
   "outputs": [],
   "source": [
    "compare_df = pd.DataFrame()"
   ]
  },
  {
   "cell_type": "code",
   "execution_count": 111,
   "metadata": {
    "collapsed": false,
    "scrolled": true
   },
   "outputs": [],
   "source": [
    "#Make a new dataframe containing area codes that are in both datasets that are not null\n",
    "for key,row in internet_df.iterrows():\n",
    "        #    index = health_df.ix[health_df['area_code'] == row['LGA2011']]\n",
    "        #    #print(index['area_code'])\n",
    "        #    if (index['health_rate'][list(index.index)[0]] != 'null'):\n",
    "        #        d = make_row(row, index)\n",
    "            for i in [health_df, hospital_df, chronic_df]:\n",
    "                d = check_row(row, i)\n",
    "                compare_df = compare_df.append(d, ignore_index=True)\n",
    "\n",
    "\n",
    "        "
   ]
  },
  {
   "cell_type": "code",
   "execution_count": 112,
   "metadata": {
    "collapsed": false
   },
   "outputs": [
    {
     "data": {
      "text/plain": [
       "['Dialup',\n",
       " 'NetC_meas',\n",
       " 'NetC_rank',\n",
       " 'NetC_sd',\n",
       " 'OtherConn',\n",
       " 'RRMSE',\n",
       " 'Tech_rank',\n",
       " 'Tech_sd',\n",
       " 'TotalConn',\n",
       " 'area_code',\n",
       " 'bband',\n",
       " 'bband_meas',\n",
       " 'bband_rank',\n",
       " 'bband_sd',\n",
       " 'health_count',\n",
       " 'health_rate',\n",
       " 'cae_count',\n",
       " 'cae_rate',\n",
       " 'cae_sig',\n",
       " 'can_count',\n",
       " 'can_rate',\n",
       " 'cancer_sig',\n",
       " 'crc_count',\n",
       " 'crc_rate',\n",
       " 'crc_sig',\n",
       " 'digestive_count',\n",
       " 'digestive_rate',\n",
       " 'digestive_sig',\n",
       " 'gen_count',\n",
       " 'gen_rate',\n",
       " 'gen_sig',\n",
       " 'hys_count',\n",
       " 'hys_rate',\n",
       " 'hys_sig',\n",
       " 'infc_count',\n",
       " 'infc_rate',\n",
       " 'infc_sig',\n",
       " 'injury_count',\n",
       " 'injury_rate',\n",
       " 'injury_sig',\n",
       " 'men_count',\n",
       " 'mental_rate',\n",
       " 'mental_sig',\n",
       " 'msc_count',\n",
       " 'msc_rate',\n",
       " 'msc_sig',\n",
       " 'myr_count',\n",
       " 'myr_rate',\n",
       " 'myr_sig',\n",
       " 'preg_count',\n",
       " 'preg_rate',\n",
       " 'preg_sig',\n",
       " 'ren_sig',\n",
       " 'rsp_count',\n",
       " 'rsp_rate',\n",
       " 'rsp_sig',\n",
       " 'ton_count',\n",
       " 'ton_rate',\n",
       " 'ton_sig',\n",
       " 'total_count',\n",
       " 'total_fem_count',\n",
       " 'total_fem_rate',\n",
       " 'total_fem_sig',\n",
       " 'total_male_count',\n",
       " 'total_male_rate',\n",
       " 'total_male_sig',\n",
       " 'total_rate',\n",
       " 'total_sig',\n",
       " 'arthritis_rate',\n",
       " 'arthritis_rrmse',\n",
       " 'asthma_rate',\n",
       " 'asthma_rrmse',\n",
       " 'circ_rate',\n",
       " 'circ_rrmse',\n",
       " 'copd_rate',\n",
       " 'copd_rrmse',\n",
       " 'diabetes_rate',\n",
       " 'diabetes_rrmse',\n",
       " 'hg_choles_rate',\n",
       " 'hg_choles_rrmse',\n",
       " 'hypertens_rate',\n",
       " 'hypertens_rrmse',\n",
       " 'mntl_bh_p_rate',\n",
       " 'mntl_bh_p_rrmse',\n",
       " 'musculo_rate',\n",
       " 'musculo_rrmse',\n",
       " 'respirtry_rate',\n",
       " 'respirtry_rrmse',\n",
       " 'ren_count',\n",
       " 'ren_rate']"
      ]
     },
     "execution_count": 112,
     "metadata": {},
     "output_type": "execute_result"
    }
   ],
   "source": [
    "list(compare_df)"
   ]
  },
  {
   "cell_type": "code",
   "execution_count": 118,
   "metadata": {
    "collapsed": false
   },
   "outputs": [
    {
     "data": {
      "image/png": "[encoded data removed]",
      "text/plain": [
       "<matplotlib.figure.Figure at 0x29ef7e0d3c8>"
      ]
     },
     "metadata": {},
     "output_type": "display_data"
    },
    {
     "name": "stdout",
     "output_type": "stream",
     "text": [
      "Pearson Correlation:  0.602670727033\n"
     ]
    }
   ],
   "source": [
    "d = pd.DataFrame({'internet':compare_df['bband_rank'], 'health':compare_df['rsp_rate']}, columns=['internet', 'health'])\n",
    "d.plot(kind='scatter', x='internet', y='health')\n",
    "plt.title(\"Broadband Rank of LGA vs Health Rate\")\n",
    "plt.xlabel(\"Rank of LGA (Broadband Connections)\")\n",
    "plt.ylabel(\"% of Unhealthy Persons in LGA\")\n",
    "plt.show()\n",
    "print(\"Pearson Correlation: \", d['internet'].corr(d['health']))"
   ]
  },
  {
   "cell_type": "code",
   "execution_count": null,
   "metadata": {
    "collapsed": false
   },
   "outputs": [],
   "source": []
  },
  {
   "cell_type": "code",
   "execution_count": null,
   "metadata": {
    "collapsed": true
   },
   "outputs": [],
   "source": []
  }
 ],
 "metadata": {
  "kernelspec": {
   "display_name": "Python 3",
   "language": "python",
   "name": "python3"
  },
  "language_info": {
   "codemirror_mode": {
    "name": "ipython",
    "version": 3
   },
   "file_extension": ".py",
   "mimetype": "text/x-python",
   "name": "python",
   "nbconvert_exporter": "python",
   "pygments_lexer": "ipython3",
   "version": "3.6.0"
  }
 },
 "nbformat": 4,
 "nbformat_minor": 2
}
